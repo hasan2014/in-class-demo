# -*- coding: utf-8 -*-
"""
Created on Mon Sep 22 18:31:22 2014

@author: hassan
"""
import numpy
import math
import matplotlib.pyplot as plt

Tf=2
xf=2
dt=0.1
dx=0.1
N=int(Tf/dt)
Nx=int(xf/dt)
t=numpy.linspace(0,Tf,N+1)
x=numpy.linspace(0,xf,Nx+1)
#print t
#print Nx

u=numpy.empty((N, Nx))

for i in range (Nx+1):
  if x[i]<= 0.5 :
   u[0,i]=1.0
  
   
print u[0,:]
print x  