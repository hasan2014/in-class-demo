{
 "metadata": {
  "name": "",
  "signature": "sha256:7adc5f53e0a3cc735b6ca8ef68995dab54d43378679b8566fdb105e1163fdf79"
 },
 "nbformat": 3,
 "nbformat_minor": 0,
 "worksheets": [
  {
   "cells": [
    {
     "cell_type": "markdown",
     "metadata": {},
     "source": [
      "                                           Introduction To Lattice Boltzmann Method"
     ]
    },
    {
     "cell_type": "markdown",
     "metadata": {},
     "source": [
      "In this module , We are going to learn how to solve diffusion and advection-diffusion (Navier-Stokes problem ) in Fluid mechanic by Lattice Boltzmann Method (LBM) .\n",
      "As we know there are two main approaches in simulating the transport equations continum and discrete.As A continum approach we can refer to the Finite difference method (FDM) which we learned in the numerical class . As we experienced in this class there are some criterias which should be met in each types of problems because of (nonlinearity, complex boundary conditions, complex geometry, etc.) . If you remember following procedures in continume approach are expected:\n",
      "\n",
      "1- First the governing equations are identified (mainly partial differential equations).\n",
      "2- The next step is to discretize the domain into volume, girds, or elements depending on the method of solution (FVM,FDM or FEM).\n",
      "3- The scale is macroscopic . The velocity, pressure, temperature of all those particles represented by a nodal value, or averaged over a finite volume, or simply assumed linearly or bi-linearly varied from one node to another . Each volume or node or element contains a collection of particles (huge number, order of 10E16).\n",
      "\n"
     ]
    },
    {
     "cell_type": "markdown",
     "metadata": {},
     "source": [
      "In dicrete approah (microscopic approach) the medium can be considered made of small particles (atom, molecule) and these particles collide with each other. This scale is microscale. Hence, we need to identify the inter-particle (inter-molecular) \n",
      "forces and solve ordinary differential equation of Newton\u2019s second law (momentum conservation).\n",
      "\n",
      "The procedures are as follow :\n",
      "\n",
      "1- At each time step, we need to identify location and velocity of each particle, i.e, trajectory of the particles .\n",
      "2- Temperature and pressure are related to the kinetic energy of the particles (mass and velocity) and frequency of particles bombardment on the boundaries . This method is called molecular dynamics (MD) simulations .\n",
      "3- The simulation time step should be less than the particles collision time,which is in the order of fero-seconds (10E-12 s). Hence, it is impossible to solve large size problems (order of cm) by MD method .\n",
      "4- Statistical mechanics need to be used as a translator between the molecular world and the macroscopic world.\n",
      "5- It is important to specify the appropriate inter-particle force function .\n",
      "6- The main drawback or obstacle of using MD in simulation of a relatively large system is the computer resource and data reduction process, which will not be available for us in the seen future."
     ]
    },
    {
     "cell_type": "markdown",
     "metadata": {},
     "source": [
      "           What about a middle man, sitting at the middle of both mentioned techniques,the lattice Boltzmann method (LBM)."
     ]
    },
    {
     "cell_type": "markdown",
     "metadata": {},
     "source": [
      "The main idea of Boltzmann is to bridge the gap between micro-scale and macro-scale by not considering each particle\n",
      "behavior alone but behavior of a collection of particles as a unit . The concepts of LBM are based on Ludwig Boltzmann's kinetic theory of gases. Therefore at first it is strongly recommended to study kinetic theroy in detail .  The fundamental idea is that gases/ fluids can be imagined as consisting of a large number of small particles moving with random motions.\n",
      "Here we only mention to some basic parts of LBM ( because of our limitation ) .It is highly recommended to review the below mentioned references and also the history of LBM . "
     ]
    },
    {
     "cell_type": "markdown",
     "metadata": {},
     "source": [
      "LBM comprises two basic steps called \"collision and propagation\" of fictitious particles . The exchange of momentum and energy is achieved through particle streaming and billiard-like particle collision . Considering 'r' as the position of a particle relative to the fixed reference node  . Lets at first introduce particle distribution function 'f' defined as the number of molecules at time 't' positioned between 'r'and 'r + dr ' which have velocities between 'c' and 'c + dc ' . \n",
      "\n",
      "The LBM simplifies Boltzmann's original idea of gas dynamics by reducing the number of particles and confining them to the nodes of a lattice. For a two dimensional model, a particle is restricted to stream in a possible of '9' directions, including the one staying at rest. These velocities are referred to as the microscopic velocities and denoted by 'ei' which i=0,..,8 is known D2Q9 it means two dimensional involved 9 velocity directions . For one dimensional the particles are denoted as D1Q3 means one dimensional with 2 particle placed in the left and right hand side of ceratin particle (0) . There are also some other consideration however in this module we limit our codes based on these two types of arrangment for 2D and 1D problems . \n",
      "\n",
      "It is necessary to note that in LBM every lattice space and also time step is considered as one ."
     ]
    },
    {
     "cell_type": "markdown",
     "metadata": {},
     "source": [
      "                                           Main Equations and steps in LBM\n",
      "\n",
      "As discussed earlier the exchange of momentum and energy is achieved through particle streaming and particle collision. \n",
      "This process can be modelled by the Boltzmann transport equation, which is:\n",
      "\n",
      "\\frac{\\partial f}{\\partial t} +\\mathop{u}\\limits^{\\to } .\\nabla f=\\Omega \n",
      "\n",
      "microscopic lattice nodes are defined as follow :\n",
      "\n",
      "D2Q9:\n",
      "\n",
      "\\mathop{e_{i} }\\limits^{\\to } \\left\\{\\begin{array}{l} {(0,0)\\, \\, \\, \\, \\, \\, \\, \\, \\, \\, \\, \\, \\, \\, \\, \\, \\, \\, \\, \\, \\, \\, \\, \\, \\, \\, \\, \\, \\, \\, \\, \\, \\, \\, \\, \\, \\, \\, \\, \\, \\, \\, \\, \\, \\, \\, \\, \\, \\, \\, \\, \\, \\, \\, \\, \\, \\, i=0\\, \\, \\, \\, \\, \\, \\, \\, \\, \\, \\, \\, \\, \\, } \\\\ {(1,0),(0,1),(-1,0),(0,-1)\\, \\, \\, \\, \\, \\, \\, \\, \\, \\, \\, \\, \\, \\, \\, \\, i=1,2,3,4} \\\\ {(1,1),(-1,1),(-1,-1),(1,-1)\\, \\, \\, \\, \\, \\, \\, \\, \\, \\, \\, i=5,6,7,8\\, \\, } \\end{array}\\right. \n",
      "\n",
      "D2Q5:\n",
      "\n",
      "\\mathop{e_{i} }\\limits^{\\to } \\left\\{\\begin{array}{l} {(0,0)\\, \\, \\, \\, \\, \\, \\, \\, \\, \\, \\, \\, \\, \\, \\, \\, \\, \\, \\, \\, \\, \\, \\, \\, \\, \\, \\, \\, \\, \\, \\, \\, \\, \\, \\, \\, \\, \\, \\, \\, \\, \\, \\, \\, \\, \\, \\, \\, \\, \\, \\, \\, \\, \\, \\, \\, \\, i=0\\, \\, \\, \\, \\, \\, \\, \\, \\, \\, \\, \\, \\, \\, } \\\\ {(1,0),(0,1),(-1,0),(0,-1)\\, \\, \\, \\, \\, \\, \\, \\, \\, \\, \\, \\, \\, \\, \\, \\, i=1,2,3,4} \\end{array}\\right.  \n",
      "\n",
      "D1Q3:\n",
      "\n",
      "\\mathop{e_{i} }\\limits^{\\to } \\left\\{\\begin{array}{l} {(0,0)\\, \\, \\, \\, \\, \\, \\, \\, \\, \\, \\, \\, \\, \\, \\, \\, \\, \\, \\, \\, \\, \\, \\, \\, \\, \\, \\, \\, \\, \\, \\, i=0\\, \\, \\, \\, \\, \\, \\, \\, \\, \\, \\, \\, \\, \\, } \\\\ {(1,0),(0,-1)\\, \\, \\, \\, \\, \\, \\, \\, \\, \\, \\, \\, \\, \\, \\, \\, i=1,2} \\end{array}\\right.  \n",
      "    "
     ]
    },
    {
     "cell_type": "markdown",
     "metadata": {},
     "source": [
      "For each particle on the lattice, we associate a discrete probability distribution function 'f'. \n",
      "which describes the probability of streaming in one particular direction. \n",
      "Therefore the macroscopic fluid density can be defined as a summation of microscopic particle distribution\n",
      "function :\n",
      "\n",
      "\\rho (\\mathop{x}\\limits^{\\to } ,t)=\\sum _{i=0}^{i=8}f_{i} (\\mathop{x}\\limits^{\\to }  ,t) \n",
      "\n",
      "Accordingly, the macroscopic velocity u(x,t) is an average of microscopic velocities weighted by the distribution functions (f):\n",
      "\n",
      "u(\\mathop{x}\\limits^{\\to } ,t)=\\frac{1}{\\rho } \\sum _{i=0}^{i=8}cf_{i} (\\mathop{x}\\limits^{\\to }  ,t)\\, \\mathop{e_{i} }\\limits^{\\to }\n",
      "\n",
      "The key steps in LBM are the streaming and collision processes which are given by :\n",
      "\n",
      "\\underbrace{\\, \\, \\, f_{i} (\\mathop{\\mathop{x}\\limits^{\\to } +c\\mathop{e_{i} }\\limits^{\\to } }\\limits^{} \\, \\Delta t,t+\\Delta t)-f_{i} (\\mathop{\\mathop{x}\\limits^{\\to } ,}\\limits^{} \\, t)\\, \\, \\, \\, }_{Strea\\min g} =-\\underbrace{\\, \\frac{[f_{i} (\\mathop{\\mathop{x}\\limits^{\\to } ,}\\limits^{} \\, t)-f_{i}^{eq} (\\mathop{\\mathop{x}\\limits^{\\to } ,}\\limits^{} \\, t)]}{\\tau } \\, \\, }_{Collision} \n",
      "\n",
      "In the actual implementation of the model, streaming and collision are computed separately, and special attention is given to these when dealing with boundary lattice nodes . In the collision term 'feqi(x;t)'is the equilibrium distribution, and (tau) is considered as the relaxation time towards local equilibrium. For simulating single phase flows, it suffices to use Bhatnagar-Gross-Krook (BGK) collision, whose equilibrium distribution 'feqi' is defined by:\n",
      "\n",
      "f_{i}^{eq} (\\mathop{x}\\limits^{\\to } ,t)=\\omega _{i} \\, \\rho +\\rho \\, s_{i} (\\mathop{u}\\limits^{\\to } (\\mathop{x}\\limits^{\\to } ,t)) \n",
      "\n",
      "s_{i} (\\mathop{\\mathop{u}\\limits^{\\to } )=}\\limits^{} \\omega _{i} \\, \\left[3\\frac{\\mathop{e_{i} }\\limits^{\\to } .\\mathop{u}\\limits^{\\to } }{c} +\\frac{9}{2} \\frac{(\\mathop{e_{i} }\\limits^{\\to } .\\mathop{u}\\limits^{\\to } )^{2} }{c^{2} } -\\frac{3}{2} \\frac{\\mathop{u}\\limits^{\\to } .\\mathop{u}\\limits^{\\to } }{c^{2} } \\right] \n",
      "\n",
      "\\omega _{i} =\\left\\{\\begin{array}{l} {4/9\\, \\, \\, \\, \\, \\, \\, \\, \\, \\, i=0} \\\\ {1/9\\, \\, \\, \\, \\, \\, \\, \\, \\, \\, \\, i=1,2,3,4} \\\\ {1/36\\, \\, \\, \\, \\, \\, \\, \\, i=5,6,7,8} \\end{array}\\right. \\, \\, \n",
      "\n",
      "c=\\frac{\\Delta x}{\\Delta t} is the lattice speed . The fluid kinematic viscosity in the D2Q9 model is related to the relaxation time by \n",
      "\n",
      "\\nu =\\frac{2\\tau -1}{6} \\frac{(\\Delta x)^{2} }{\\Delta t}\n",
      "\n",
      "\n"
     ]
    },
    {
     "cell_type": "markdown",
     "metadata": {},
     "source": [
      "The algorithm can be summarized as follows:\n",
      "\n",
      "1- Initializing distribution function\n",
      "2- Collision step: calculate the updated distribution function\n",
      "3- Streaming step\n",
      "4- Boundary condition \n",
      "5- obtaining velocity,density and other macroscopic properties based on distribution function\n",
      "6- repeat again until the satisfication of criterion of steady state .\n",
      "\n",
      "we need to notice that relaxation time should be lower than 0.5 to satisfy low mach number in LBM else instability problems arise during solution and also during the streaming and collision step, the boundary nodes require some special treatments on the distribution functions in order to satisfy the imposed macroscopic boundary conditions ."
     ]
    },
    {
     "cell_type": "markdown",
     "metadata": {},
     "source": [
      "                                                       Boundary condition :\n",
      "\n",
      "In these codes we used three types of boundaries (No-slip boundary condition,Dirichlet and neumann ) . For other boundries it is recommended to read the book or related papers mentioned below .\n",
      "\n",
      "No-slip boundary condition (Bounce-back BCs):\n",
      "\n",
      "By the so-called bounce-back we mean that when a fluid particle (discrete distribution function) reaches a boundary\n",
      "node, the particle will scatter back to the fluid along with its incoming direction.In our codes we use bounce back type which is on the grid and it is first order but we can also use mid-grid bounce back with second order accuracy . There are also different types of bounceback to guarantee no-slip condition . These types are important where we deal with immeresed body such as crircle in our domain which need special treatment to not allow fluid penetrates solid boundary . \n",
      "\n",
      "First-order Zou-He BCs  Bounce back model   :\n",
      "we can use this method for boundary with movement :\n",
      "\n",
      "\\begin{array}{l} {f_{1} +f_{5} +f_{8} =\\rho -(f_{0} +f_{2} +f_{4} +f_{3} +f_{6} +f_{7} )} \\\\ {f_{1} +f_{5} +f_{8} =\\rho \\, u+(f_{3} +f_{6} +f_{7} )} \\\\ {f_{5} -f_{8} =\\rho \\, v-f_{2} +f_{4} -f_{6} +f_{7} } \\\\ {} \\end{array} \n",
      "\\end{equation} \n",
      "\\[\\rho =\\frac{1}{1-u} \\, \\left[f_{0} +f_{2} +f_{4} +2(f_{3} +f_{6} +f_{7} )\\right]\\] \n",
      "\n",
      "\n",
      "\n",
      "\n"
     ]
    },
    {
     "cell_type": "markdown",
     "metadata": {},
     "source": [
      "\n",
      "\n",
      "\n",
      "\n",
      "\n",
      "\n",
      "\n",
      "\n",
      "\n",
      "\n",
      "===========\n",
      "(15)\n",
      "(16)\n",
      "(17)\n",
      "=========\n",
      "\n",
      "\n",
      "\n",
      "\n",
      "\n",
      "\n",
      "\n",
      "\n",
      "\n",
      "\n",
      "\n",
      "\n",
      "\n",
      "\n",
      "\n",
      "\n",
      "\n",
      "\n",
      "\n",
      "\n",
      "\n",
      "\n",
      "\n",
      "\n",
      "\n",
      "\n",
      "\n",
      "\n",
      "\n",
      "\n",
      "\n",
      "\n",
      "\n"
     ]
    }
   ],
   "metadata": {}
  }
 ]
}