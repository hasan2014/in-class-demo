{
 "metadata": {
  "name": "",
  "signature": "sha256:f05570a46b4b60c8c7a8c4864326875f825e1100587d98a2952df893e5c3cbde"
 },
 "nbformat": 3,
 "nbformat_minor": 0,
 "worksheets": [
  {
   "cells": [
    {
     "cell_type": "code",
     "collapsed": false,
     "input": [
      "\n",
      "import numpy \n",
      "import matplotlib\n",
      "import numpy as np\n",
      "import matplotlib.cm as cm\n",
      "import matplotlib.mlab as mlab\n",
      "import matplotlib.pyplot as plt\n",
      "\n",
      "\n",
      "%matplotlib inline\n",
      "from matplotlib import rcParams\n",
      "rcParams['font.family'] = 'serif'\n",
      "rcParams['font.size'] = 16"
     ],
     "language": "python",
     "metadata": {},
     "outputs": [],
     "prompt_number": 69
    },
    {
     "cell_type": "code",
     "collapsed": false,
     "input": [],
     "language": "python",
     "metadata": {},
     "outputs": [],
     "prompt_number": 69
    },
    {
     "cell_type": "code",
     "collapsed": false,
     "input": [
      "nx=20 # the number of nodes in x direction lattice direction \n",
      "ny=20 # the number of nodes in y direction lattice direction \n",
      "\n",
      "\n",
      "alpha=0.25 # heat diffusion coefficient \n",
      "D=2.0 # the dimension of the problem \n",
      "mstep=1000 # the number of time step\n",
      "omega=1./(0.5+(alpha*D))     #Chapman-Enskog  dt=1 and dx=1 \n",
      "\n",
      "Tleft=1.0    # left wall temperature\n",
      "Tright=0.0   # right wall temperature\n",
      "k=5 # k=0,1,2,3,4,5,6,8,9 "
     ],
     "language": "python",
     "metadata": {},
     "outputs": [],
     "prompt_number": 70
    },
    {
     "cell_type": "code",
     "collapsed": false,
     "input": [
      "#=================== \n",
      "x=numpy.linspace(0,1,nx+1)\n",
      "y=numpy.linspace(0,1,ny+1)\n",
      "w=numpy.ones(k)      # witghting factor\n",
      "T=numpy.ones((ny+1,nx+1) )   # Temperature matrix\n",
      "f= numpy.ones((k, ny+1,nx+1))   # distribution function\n",
      "##================ Initial boundary condition\n",
      "w[0]=0.0 \n",
      "w[1:5]=1./4.\n",
      "\n",
      "\n",
      "##================== Initial value\n",
      "\n",
      "T[0:ny+1,0:nx+1]=0.0\n",
      "T[0:ny+1,0]=1.0\n",
      "T[0:ny+1,nx]=0.0  \n",
      "T[ny,1:nx]=0.0\n",
      "\n",
      "for i in range(nx+1):\n",
      "  for j in range(ny+1):\n",
      "   for l in range (k): #k=0,1,2,3,4      \n",
      "    f[l,j,i]=w[l]*T[j,i]"
     ],
     "language": "python",
     "metadata": {},
     "outputs": [],
     "prompt_number": 71
    },
    {
     "cell_type": "code",
     "collapsed": false,
     "input": [
      "##=====================\n",
      "##   Main loop  : comprised two parts :collision and streaming\n",
      "##=====================\n",
      "for n in range(mstep) :\n",
      "    \n",
      "# collision process   \n",
      " for i in range(nx+1):\n",
      "  for j in range(ny+1):\n",
      "   for l in range (k):\n",
      "    feq=w[l]*T[j,i]    \n",
      "    f[l,j,i]=(1.-omega)*f[l,j,i]+omega*feq    \n",
      " \n",
      "#streaming process\n",
      "# ==========================\n",
      " for i in range(nx):\n",
      "  for j in range(ny,0,-1):  \n",
      "   f[2,j,i]=f[2,j-1,i]\n",
      "\n",
      " for i in range(nx,0,-1):\n",
      "  for j in range(ny,0,-1):  \n",
      "   f[1,j,i]=f[1,j,i-1] \n",
      "\n",
      " for i in range(nx,0,-1):\n",
      "  for j in range(0,ny):  \n",
      "   f[4,j,i]=f[4,j+1,i]\n",
      "\n",
      " for i in range(0,nx):\n",
      "  for j in range(0,ny):  \n",
      "   f[3,j,i]=f[3,j,i+1]\n",
      "\n",
      "# Boundary condition \n",
      "#  =============================\n",
      " for j in range(0,ny+1) :               #left Boundary\n",
      "  f[1,j,0]=( Tleft*(w[1]+w[3]) )-f[3,j,0]\n",
      "  \n",
      "  \n",
      " for j in range(0,ny+1):                #right Boundary\n",
      "  f[3,j,nx]=( Tright*(w[1]+w[3]) )-f[1,j,nx]\n",
      "  \n",
      "\n",
      " for i in range(0,nx+1):                # bottom and top Boundary\n",
      "  f[4,ny,i]=-f[2,ny,i]\n",
      "\n",
      "  f[1,0,i]=f[1,1,i]\n",
      "  f[2,0,i]=f[2,1,i]\n",
      "  f[3,0,i]=f[3,1,i]\n",
      "  f[4,0,i]=f[4,1,i]\n",
      "  \n",
      "#================================  \n",
      " \n",
      " for i in range(nx+1):\n",
      "  for j in range(ny+1):\n",
      "   sum=0.0\n",
      "   for l in range (k):\n",
      "    sum=sum+f[l,j,i]\n",
      "   T[j,i]=sum\n",
      " T[0:ny+1,0]=Tleft\n",
      " T[0:ny+1,nx]=Tright\n",
      " T[ny,1:nx]=0.0\n",
      " T[0,1:nx]=T[1,1:nx]\n",
      "#=============================="
     ],
     "language": "python",
     "metadata": {},
     "outputs": [],
     "prompt_number": 72
    },
    {
     "cell_type": "code",
     "collapsed": false,
     "input": [
      "mx, my = numpy.meshgrid(x,y)\n",
      "plt.figure(figsize=(8,5))\n",
      "plt.contourf(x,y,T,20)\n",
      "plt.xlabel('$x$')\n",
      "plt.ylabel('$y$')\n",
      "plt.colorbar();\n",
      "print mstep\n"
     ],
     "language": "python",
     "metadata": {},
     "outputs": [
      {
       "output_type": "stream",
       "stream": "stdout",
       "text": [
        "1000\n"
       ]
      },
      {
       "metadata": {},
       "output_type": "display_data",
       "png": "[encoded data removed]",
       "text": [
        "<matplotlib.figure.Figure at 0x7f8c57facb50>"
       ]
      }
     ],
     "prompt_number": 73
    }
   ],
   "metadata": {}
  }
 ]
}